{
 "cells": [
  {
   "cell_type": "markdown",
   "metadata": {
    "id": "BzSC6lZgtid-"
   },
   "source": [
    "# Exercice 0 : échauffement"
   ]
  },
  {
   "cell_type": "markdown",
   "metadata": {
    "id": "aZ1yf1CtsnPk"
   },
   "source": [
    "Dans ce TP nous allons représenter des distributions de données via différents types de graphes.\n",
    "\n",
    "Q1: Expliquez ce que représente et quand utiliser :\n",
    "\n",
    "\n",
    "*   un scatterplot\n",
    "*   un barplot\n",
    "*   un boxplot\n",
    "*   un violinplot\n",
    "*   un histogramme\n",
    "\n",
    "\n",
    "\n",
    "\n"
   ]
  },
  {
   "cell_type": "markdown",
   "metadata": {
    "id": "VyvImAWts4_h"
   },
   "source": [
    "```markdown\n",
    "Scatterplot: Nommé également scattergram, scatter graph ou aussi scatter chart, les scatter plots sont un type de graphique sous forme d’un nuage de points montrant ainsi comment une variable  est affectée par une autre. L’axe vertical, ou l’axe des ordonnées est utilisé pour afficher l’une des variables et un axe horizontal, ou l’axe des abscisses pour l’autre variable. \n",
    "\n",
    "Barplot: Les diagrammes en barres montrent les dénombrements de fréquence des valeurs pour les différents niveaux d'une variable catégorielle ou nominale. Parfois, les diagrammes en barres affichent également d'autres statistiques, comme des pourcentages\n",
    "\n",
    "Boxplot: Aussi appelée « diagramme en boîte » ou « box plot », la boîte à moustaches est la représentation graphique d'une série statistique. Elle fait apparaître la plus petite valeur, le premier quartile, la valeur médiane, le troisième quartile et la plus grande valeur.\n",
    "\n",
    "Violinplot: Un violin plot est utilisé pour visualiser la distribution des données et sa densité de probabilité. Ce graphique est une combinaison d’un boxplot et d’un density plot retourné placé de chaque côté, pour afficher la distribution des données.\n",
    "\n",
    "Histogramme: L'histogramme est un représentation graphique permettant de représenter la répartition empirique d'une variable aléatoire ou d'une série statistique en la représentant avec des colonnes correspondant chacune à une classe et dont l'aire est proportionnelle à l'effectif de la classe\n",
    "```"
   ]
  },
  {
   "cell_type": "markdown",
   "metadata": {
    "id": "Wf7mamjQt2aQ"
   },
   "source": [
    "# Exercice 1 : description de la base genbank"
   ]
  },
  {
   "cell_type": "markdown",
   "metadata": {
    "id": "Qtp_GvGzs8xr"
   },
   "source": [
    "La base de données genbank est un des principaux dépots de données de génomes, elle gérée par le NCBI Américain (National Center for Biotechnology Information).\n",
    "\n",
    "Dans cet exercice, allons étudier le contenu général de cette base de données en utilisant les fichiers de résumés."
   ]
  },
  {
   "cell_type": "markdown",
   "metadata": {
    "id": "hOS03wmjyxWX"
   },
   "source": [
    "---"
   ]
  },
  {
   "cell_type": "markdown",
   "metadata": {
    "id": "V3_Ytl_AypPn"
   },
   "source": [
    "Note technique : dans colab, vous pouvez monter votre google drive avec le code suivant :"
   ]
  },
  {
   "cell_type": "code",
   "execution_count": 1,
   "metadata": {
    "id": "mcpOIXziyvIt"
   },
   "outputs": [
    {
     "ename": "ModuleNotFoundError",
     "evalue": "No module named 'google'",
     "output_type": "error",
     "traceback": [
      "\u001b[0;31m---------------------------------------------------------------------------\u001b[0m",
      "\u001b[0;31mModuleNotFoundError\u001b[0m                       Traceback (most recent call last)",
      "Cell \u001b[0;32mIn[1], line 1\u001b[0m\n\u001b[0;32m----> 1\u001b[0m \u001b[38;5;28;01mfrom\u001b[39;00m \u001b[38;5;21;01mgoogle\u001b[39;00m\u001b[38;5;21;01m.\u001b[39;00m\u001b[38;5;21;01mcolab\u001b[39;00m \u001b[38;5;28;01mimport\u001b[39;00m drive\n\u001b[1;32m      2\u001b[0m drive\u001b[38;5;241m.\u001b[39mmount(\u001b[38;5;124m'\u001b[39m\u001b[38;5;124m/content/gdrive\u001b[39m\u001b[38;5;124m'\u001b[39m)\n",
      "\u001b[0;31mModuleNotFoundError\u001b[0m: No module named 'google'"
     ]
    }
   ],
   "source": [
    "from google.colab import drive\n",
    "drive.mount('/content/gdrive')"
   ]
  },
  {
   "cell_type": "markdown",
   "metadata": {
    "id": "xf_z3wkSywXr"
   },
   "source": [
    "---"
   ]
  },
  {
   "cell_type": "markdown",
   "metadata": {
    "id": "Y_neXxKUtaq3"
   },
   "source": [
    "Q1. Téléchargez les fichier \"overview.txt\" et \"README\" disponibles ici :\n",
    "\n",
    " https://ftp.ncbi.nlm.nih.gov/genomes/GENOME_REPORTS/\n",
    "\n"
   ]
  },
  {
   "cell_type": "markdown",
   "metadata": {
    "id": "80dH8XR6uK1N"
   },
   "source": [
    "Q2. Quel est le format du fichier \"overview.txt\" ?"
   ]
  },
  {
   "cell_type": "markdown",
   "metadata": {
    "id": "SGowRH9cui_e"
   },
   "source": [
    "```markdown\n",
    "Le fichier est un fichier texte qui ressemble beaucoup à un fichier CSV séparer par des tabulations.\n",
    "```"
   ]
  },
  {
   "cell_type": "markdown",
   "metadata": {
    "id": "R4m65wC5ufPL"
   },
   "source": [
    "Q3. Utilisez le fichier README pour comprendre ce que chaque colonne représente."
   ]
  },
  {
   "cell_type": "markdown",
   "metadata": {
    "id": "JJHy3UDRul7J"
   },
   "source": [
    "```markdown\n",
    "Organism/Name  Organism name at the species level according \n",
    "Kingdom        Taxonomic division: Archaea, Bacteria, Eukaryota, or Viruses \n",
    "Group                  Commonly used organism groups \n",
    "                       Eukaryota: Animals, Fungi, Plants, Protists;                           \n",
    "                       Prokaryota: group corresponds to phylum; \n",
    "                       Viruses: groups defined as the first level (not ranked)                        \n",
    "                       below the kingdom of Viruses\n",
    "\n",
    "SubGroup       NCBI Taxonomy level below group:\n",
    "                       Eukaryota: Mammals, Birds, Fishes, Flatworms, Insects, Amphibians\n",
    "                       Reptiles, Roundworms, Ascomycetes, Basidiomycetes, \n",
    "                       Land Plants, Green Algae, Apicomplexans, Kinetoplasts; \n",
    "                       Prokaryota: sub-groups correspond to class level; \n",
    "                       Viruses: sub-groups correspond to families including floating genera \n",
    "\n",
    "Size (Mb)      Estimated genome size \n",
    "Chrs           Number of chromosomes \n",
    "Organelles     Number of the organelles \n",
    "Plasmids       Number of plasmids \n",
    "BioProjects    Number of genome sequencing projects\n",
    "```"
   ]
  },
  {
   "cell_type": "markdown",
   "metadata": {
    "id": "K84ckFQvundb"
   },
   "source": [
    "## Organisation de la base de données"
   ]
  },
  {
   "cell_type": "markdown",
   "metadata": {
    "id": "SaU5LeGjuxC_"
   },
   "source": [
    "Q4. Combien d’organismes sont présents ?"
   ]
  },
  {
   "cell_type": "code",
   "execution_count": 78,
   "metadata": {
    "colab": {
     "base_uri": "https://localhost:8080/"
    },
    "id": "kLpubavwu2UX",
    "outputId": "254be984-a102-41f7-95b0-82f08784ef77"
   },
   "outputs": [
    {
     "data": {
      "text/plain": [
       "87888"
      ]
     },
     "execution_count": 78,
     "metadata": {},
     "output_type": "execute_result"
    }
   ],
   "source": [
    "import csv\n",
    "import numpy as np\n",
    "\n",
    "with open(\"overview.txt\") as csvfile:\n",
    "    file = csv.reader(csvfile, delimiter=\"\\t\", quotechar=\"'\");\n",
    "    rows = np.unique([i for i in file], axis=0)\n",
    "\n",
    "headers = rows[0]\n",
    "rows = rows[1:]   # faut enlever le header :)\n",
    "len(rows)"
   ]
  },
  {
   "cell_type": "markdown",
   "metadata": {
    "id": "8YuUcejtu3s7"
   },
   "source": [
    "### Royaumes"
   ]
  },
  {
   "cell_type": "markdown",
   "metadata": {
    "id": "RRVqMrRvvGyk"
   },
   "source": [
    "Q5. Qu'est-ce qu'un royaume ?"
   ]
  },
  {
   "cell_type": "markdown",
   "metadata": {
    "id": "cgAZIG0_vJ2D"
   },
   "source": [
    "```markdown\n",
    "Un royaume est la facon dont les êtres vivants sont séparés en fonction de leur type de cellules. Ici les différents types sont: Archaea, Bacteria, Eukaryota, or Viruses \n",
    "```"
   ]
  },
  {
   "cell_type": "markdown",
   "metadata": {
    "id": "WJjTWKxIvLbU"
   },
   "source": [
    "Q6. Combien de royaumes sont présents dans la base ?"
   ]
  },
  {
   "cell_type": "markdown",
   "metadata": {
    "id": "h5aS5XsqvRSp"
   },
   "source": [
    "```markdown\n",
    "4 (Archaea, Bacteria, Eukaryota, or Viruses)\n",
    "```"
   ]
  },
  {
   "cell_type": "markdown",
   "metadata": {
    "id": "YII_sIxavS3t"
   },
   "source": [
    "Q7. Affichez le nombre d’organismes pour chaque royaume."
   ]
  },
  {
   "cell_type": "code",
   "execution_count": 73,
   "metadata": {
    "id": "xxvVXIVKvZZP"
   },
   "outputs": [
    {
     "data": {
      "text/plain": [
       "{'Eukaryota': 15560, 'Viruses': 32573, 'Archaea': 2263, 'Bacteria': 37492}"
      ]
     },
     "execution_count": 73,
     "metadata": {},
     "output_type": "execute_result"
    }
   ],
   "source": [
    "kingdomSet = set()\n",
    "for i in rows:\n",
    "    kingdomSet.add(str(i[1]))\n",
    "    \n",
    "answerQ7 = dict()\n",
    "kingdomRows = rows[:,1]\n",
    "for kingdom in kingdomSet:\n",
    "    answerQ7[kingdom] = int(sum(kingdomRows == kingdom))\n",
    "answerQ7"
   ]
  },
  {
   "cell_type": "markdown",
   "metadata": {
    "id": "UnM-DgkPva-C"
   },
   "source": [
    "### Groupes"
   ]
  },
  {
   "cell_type": "markdown",
   "metadata": {
    "id": "KYmuKnmEve6V"
   },
   "source": [
    "Q8. Qu’est-ce qu’un groupe ?"
   ]
  },
  {
   "cell_type": "markdown",
   "metadata": {
    "id": "l8096_1CviTm"
   },
   "source": [
    "```markdown\n",
    "Les groupes sont une facon de catégorisé plus précisement les kingdoms\n",
    "```"
   ]
  },
  {
   "cell_type": "markdown",
   "metadata": {
    "id": "4IB6jZImvj_-"
   },
   "source": [
    "Q9. Combien de groupes sont présents par royaume ?"
   ]
  },
  {
   "cell_type": "code",
   "execution_count": 75,
   "metadata": {
    "id": "b3iqxuf3vrW0"
   },
   "outputs": [
    {
     "data": {
      "text/plain": [
       "{'Eukaryota': 5, 'Viruses': 8, 'Archaea': 11, 'Bacteria': 37}"
      ]
     },
     "execution_count": 75,
     "metadata": {},
     "output_type": "execute_result"
    }
   ],
   "source": [
    "answerQ9 = dict()\n",
    "for kingdom in kingdomSet:\n",
    "    answerQ9[kingdom] = len(set(rows[kingdomRows == kingdom, 2]))\n",
    "answerQ9"
   ]
  },
  {
   "cell_type": "markdown",
   "metadata": {
    "id": "vjSlkTyUvvvQ"
   },
   "source": [
    "Q10. Affichez pour chaque royaume le nombre d’organismes par groupe."
   ]
  },
  {
   "cell_type": "code",
   "execution_count": 76,
   "metadata": {
    "id": "dlBYqoZNv2Dj"
   },
   "outputs": [
    {
     "data": {
      "text/plain": [
       "{'Eukaryota': {'Animals': 7789,\n",
       "  'Protists': 664,\n",
       "  'Other': 136,\n",
       "  'Fungi': 5213,\n",
       "  'Plants': 1758},\n",
       " 'Viruses': {'unclassified virophages': 3,\n",
       "  'unclassified archaeal viruses': 15,\n",
       "  'unclassified phages': 1233,\n",
       "  'Other': 30533,\n",
       "  'Deltavirus': 10,\n",
       "  'unclassified viruses': 684,\n",
       "  'Satellites': 65,\n",
       "  'dsRNA viruses': 30},\n",
       " 'Archaea': {'Candidatus Hadarchaeota': 8,\n",
       "  'Asgard group': 61,\n",
       "  'TACK group': 408,\n",
       "  'DPANN group': 249,\n",
       "  'Other': 1,\n",
       "  'Halobacteriota': 1,\n",
       "  'Candidatus Hydrothermarchaeota': 6,\n",
       "  'Candidatus Thermoplasmatota': 432,\n",
       "  'Euryarchaeota': 1035,\n",
       "  'environmental samples': 5,\n",
       "  'unclassified Archaea': 57},\n",
       " 'Bacteria': {'delta/epsilon subdivisions': 288,\n",
       "  'Myxococcota': 146,\n",
       "  'Spirochaetota': 344,\n",
       "  'Thermodesulfobacteriota': 568,\n",
       "  'Candidatus Tharpellota': 2,\n",
       "  'Terrabacteria group': 13337,\n",
       "  'Candidatus Hinthialibacterota': 2,\n",
       "  'Thermodesulfobiota': 2,\n",
       "  'Bdellovibrionota': 122,\n",
       "  'Thermotogota': 72,\n",
       "  'Other': 2,\n",
       "  'Dictyoglomota': 5,\n",
       "  'Atribacterota': 43,\n",
       "  'Coprothermobacterota': 5,\n",
       "  'Candidatus Deferrimicrobiota': 2,\n",
       "  'environmental samples': 4,\n",
       "  'Synergistota': 85,\n",
       "  'Chrysiogenota': 6,\n",
       "  'Deferribacterota': 27,\n",
       "  'Aquificota': 42,\n",
       "  'Pseudomonadota': 11098,\n",
       "  'Caldisericota/Cryosericota group': 21,\n",
       "  'Candidatus Krumholzibacteriota': 4,\n",
       "  'Candidatus Moduliflexota': 2,\n",
       "  'Thermosulfidibacterota': 1,\n",
       "  'Campylobacterota': 256,\n",
       "  'Fusobacteriota': 79,\n",
       "  'Nitrospinota/Tectimicrobiota group': 39,\n",
       "  'Nitrospirota': 156,\n",
       "  'unclassified Bacteria': 346,\n",
       "  'Bacteria incertae sedis': 3872,\n",
       "  'Calditrichota': 10,\n",
       "  'PVC group': 1091,\n",
       "  'FCB group': 5037,\n",
       "  'Elusimicrobiota': 118,\n",
       "  'Candidatus Lernaellota': 2,\n",
       "  'Acidobacteriota': 256}}"
      ]
     },
     "execution_count": 76,
     "metadata": {},
     "output_type": "execute_result"
    }
   ],
   "source": [
    "answerQ10 = dict()\n",
    "for kingdom in kingdomSet:\n",
    "    answerQ10[kingdom] = dict()\n",
    "    kingdomGroups = rows[kingdomRows == kingdom, 2]\n",
    "    for group in set(kingdomGroups):\n",
    "        answerQ10[kingdom][str(group)] = int(sum(kingdomGroups == group))\n",
    "\n",
    "answerQ10"
   ]
  },
  {
   "cell_type": "markdown",
   "metadata": {
    "id": "kgzvx6tRwBwt"
   },
   "source": [
    "## Génomes"
   ]
  },
  {
   "cell_type": "markdown",
   "metadata": {
    "id": "4uAGGteWwHAQ"
   },
   "source": [
    "Q11. Affichez la distribution des tailles de génomes sur toute la base de données, utilisez un boxplot ou un violinplot (avec axe en log pour y voir quelque chose)."
   ]
  },
  {
   "cell_type": "code",
   "execution_count": 112,
   "metadata": {
    "id": "FoQ74OYSwTBM"
   },
   "outputs": [
    {
     "data": {
      "image/png": "[encoded data removed]",
      "text/plain": [
       "<Figure size 640x480 with 1 Axes>"
      ]
     },
     "metadata": {},
     "output_type": "display_data"
    }
   ],
   "source": [
    "import matplotlib.pyplot as plt\n",
    "import math\n",
    "%matplotlib inline\n",
    "plt.boxplot([math.log10(float(i)) for i in rows[:, 4] if i != '-'])\n",
    "plt.show()"
   ]
  },
  {
   "cell_type": "markdown",
   "metadata": {
    "id": "eIhDvcFQwm2n"
   },
   "source": [
    "Q12. Affichez la distribution par royaume."
   ]
  },
  {
   "cell_type": "code",
   "execution_count": 113,
   "metadata": {
    "id": "BefoaM92wv-t"
   },
   "outputs": [
    {
     "data": {
      "image/png": "[encoded data removed]",
      "text/plain": [
       "<Figure size 640x480 with 1 Axes>"
      ]
     },
     "metadata": {},
     "output_type": "display_data"
    }
   ],
   "source": [
    "arr = []\n",
    "for i in kingdomSet:\n",
    "    v = [math.log10(float(p)) for p in rows[rows[:, 1] == i, 4] if p != '-']\n",
    "    arr.append(v)\n",
    "plt.boxplot(arr, autorange=True)\n",
    "plt.show()"
   ]
  },
  {
   "cell_type": "markdown",
   "metadata": {
    "id": "yY1MHFKGwxIr"
   },
   "source": [
    "Q13. Affichez la distribution par groupe pour chaque royaume."
   ]
  },
  {
   "cell_type": "code",
   "execution_count": 114,
   "metadata": {
    "id": "EEsZ2FDLw3Sz"
   },
   "outputs": [
    {
     "data": {
      "image/png": "[encoded data removed]",
      "text/plain": [
       "<Figure size 640x480 with 1 Axes>"
      ]
     },
     "metadata": {},
     "output_type": "display_data"
    },
    {
     "data": {
      "image/png": "[encoded data removed]",
      "text/plain": [
       "<Figure size 640x480 with 1 Axes>"
      ]
     },
     "metadata": {},
     "output_type": "display_data"
    },
    {
     "data": {
      "image/png": "[encoded data removed]",
      "text/plain": [
       "<Figure size 640x480 with 1 Axes>"
      ]
     },
     "metadata": {},
     "output_type": "display_data"
    },
    {
     "data": {
      "image/png": "[encoded data removed]",
      "text/plain": [
       "<Figure size 640x480 with 1 Axes>"
      ]
     },
     "metadata": {},
     "output_type": "display_data"
    }
   ],
   "source": [
    "for kingdom in kingdomSet:\n",
    "    arr13 = []\n",
    "    for group in set(rows[kingdomRows == kingdom, 2]):\n",
    "        arr13.append([])\n",
    "        for row in rows:\n",
    "            if row[2] == group and row[4] != '-':\n",
    "                arr13[-1].append(math.log10(float(row[4])))\n",
    "    plt.title(kingdom)\n",
    "    plt.boxplot(arr13, autorange=True)\n",
    "    plt.show()"
   ]
  },
  {
   "cell_type": "markdown",
   "metadata": {
    "id": "dM9aQnstxGLb"
   },
   "source": [
    "Q14. Pour chaque royaume, donnez le nom et la taille de l’organisme avec le plus petit génome."
   ]
  },
  {
   "cell_type": "code",
   "execution_count": null,
   "metadata": {
    "id": "zJgE62MtxP9a"
   },
   "outputs": [],
   "source": [
    "#Votre code ici"
   ]
  },
  {
   "cell_type": "markdown",
   "metadata": {
    "id": "ZtKBn_QTxRW5"
   },
   "source": [
    "Q15. Même chose mais pour l'organisme avec le plus grand génome."
   ]
  },
  {
   "cell_type": "code",
   "execution_count": null,
   "metadata": {
    "id": "qf5pbziExVeA"
   },
   "outputs": [],
   "source": [
    "#Votre code ici"
   ]
  },
  {
   "cell_type": "markdown",
   "metadata": {
    "id": "3yXU3wfixjlY"
   },
   "source": [
    "## Chromosomes"
   ]
  },
  {
   "cell_type": "markdown",
   "metadata": {
    "id": "d86DeXm6xl95"
   },
   "source": [
    "Q16. Affichez la distribution du nombre de chromosomes, sous la forme d’un histogramme, sur toute la base de données."
   ]
  },
  {
   "cell_type": "code",
   "execution_count": null,
   "metadata": {
    "id": "cVgVRe82xxDu"
   },
   "outputs": [],
   "source": [
    "#Votre code ici"
   ]
  },
  {
   "cell_type": "markdown",
   "metadata": {
    "id": "zI3OY3idxyRz"
   },
   "source": [
    "Q17. Même chose mais pour chaque royaume sous la forme d'un boxplot (ou violinplot)."
   ]
  },
  {
   "cell_type": "code",
   "execution_count": null,
   "metadata": {
    "id": "o_2RXVfZx9r9"
   },
   "outputs": [],
   "source": [
    "#Votre code ici"
   ]
  },
  {
   "cell_type": "markdown",
   "metadata": {
    "id": "26zBhs_sx_Yn"
   },
   "source": [
    "Q18. Qu’observez-vous ? Comment l’expliquez-vous ?"
   ]
  },
  {
   "cell_type": "markdown",
   "metadata": {
    "id": "i_pRzRMKyBr3"
   },
   "source": [
    "```markdown\n",
    "Votre réponse ici\n",
    "```"
   ]
  },
  {
   "cell_type": "markdown",
   "metadata": {
    "id": "-W14JDk6yILU"
   },
   "source": [
    "Q19. Pour les Eucaryotes uniquement, affichez la distribution du nombre de chromosomes sous la forme d’un histogramme."
   ]
  },
  {
   "cell_type": "code",
   "execution_count": null,
   "metadata": {
    "id": "9Z7y7SvoyUB7"
   },
   "outputs": [],
   "source": [
    "#Votre code ici"
   ]
  },
  {
   "cell_type": "markdown",
   "metadata": {
    "id": "fjZgGKMByVQq"
   },
   "source": [
    "Q20. Pour les Eucaryotes uniquement, affichez la taille des génomes en fonction du nombre de chromosomes, sous forme d'un graphe (scatter plot)."
   ]
  },
  {
   "cell_type": "code",
   "execution_count": null,
   "metadata": {
    "id": "TexCG9hSyoRN"
   },
   "outputs": [],
   "source": [
    "#Votre code ici"
   ]
  },
  {
   "cell_type": "markdown",
   "metadata": {
    "id": "FV02vWsyypa3"
   },
   "source": [
    "Q21. Qu’observez-vous ?"
   ]
  },
  {
   "cell_type": "markdown",
   "metadata": {
    "id": "SM7IZWZcyrJb"
   },
   "source": [
    "```markdown\n",
    "Votre réponse ici\n",
    "```"
   ]
  },
  {
   "cell_type": "markdown",
   "metadata": {
    "id": "NiPmjrf30cKM"
   },
   "source": [
    "## Plasmides"
   ]
  },
  {
   "cell_type": "markdown",
   "metadata": {
    "id": "_qSxLqcD0eDd"
   },
   "source": [
    "Q22. Qu'est-ce qu'un plasmide ?"
   ]
  },
  {
   "cell_type": "markdown",
   "metadata": {
    "id": "JQFkXghg0iXM"
   },
   "source": [
    "```markdown\n",
    "Votre réponse ici\n",
    "```"
   ]
  },
  {
   "cell_type": "markdown",
   "metadata": {
    "id": "5vh9uq-20jv_"
   },
   "source": [
    "Q23. Affichez le nombre moyen de plasmides par royaume, sous forme d'un barplot."
   ]
  },
  {
   "cell_type": "code",
   "execution_count": null,
   "metadata": {
    "id": "n2-rF_H40pEP"
   },
   "outputs": [],
   "source": [
    "#Votre code ici"
   ]
  },
  {
   "cell_type": "markdown",
   "metadata": {
    "id": "-Hu-eCtU02k-"
   },
   "source": [
    "Q24. Qu'observez-vous ?"
   ]
  },
  {
   "cell_type": "markdown",
   "metadata": {
    "id": "WkTWMBr5058t"
   },
   "source": [
    "```markdown\n",
    "Votre réponse ici\n",
    "```"
   ]
  },
  {
   "cell_type": "markdown",
   "metadata": {
    "id": "-FGOVzG71Bpd"
   },
   "source": [
    "## Projets"
   ]
  },
  {
   "cell_type": "markdown",
   "metadata": {
    "id": "_KT0WqxQ1D5L"
   },
   "source": [
    "Q25. Qu'est-ce qu'un projet ?"
   ]
  },
  {
   "cell_type": "markdown",
   "metadata": {
    "id": "2CT6wDfL1HAA"
   },
   "source": [
    "```markdown\n",
    "Votre réponse ici\n",
    "```"
   ]
  },
  {
   "cell_type": "markdown",
   "metadata": {
    "id": "oyB0YYcr1IWI"
   },
   "source": [
    "Q26. Affichez le nombre de projets moyen par organisme pour chaque royaume, sous forme d'un barplot."
   ]
  },
  {
   "cell_type": "code",
   "execution_count": null,
   "metadata": {
    "id": "R-F83W0B1RK5"
   },
   "outputs": [],
   "source": [
    "#Votre code ici"
   ]
  },
  {
   "cell_type": "markdown",
   "metadata": {
    "id": "I0smAhux1UVu"
   },
   "source": [
    "Q27. Combien d'organismes ont 0 projets ?"
   ]
  },
  {
   "cell_type": "code",
   "execution_count": null,
   "metadata": {
    "id": "D0ftzo5v1Yhg"
   },
   "outputs": [],
   "source": [
    "#Votre code ici"
   ]
  },
  {
   "cell_type": "markdown",
   "metadata": {
    "id": "DWe4pEPk1Zh4"
   },
   "source": [
    "Q28. Combien d'organismes ont > 1 projets ?"
   ]
  },
  {
   "cell_type": "code",
   "execution_count": null,
   "metadata": {
    "id": "ufa4IZ4D1dzM"
   },
   "outputs": [],
   "source": [
    "#Votre code ici"
   ]
  },
  {
   "cell_type": "markdown",
   "metadata": {
    "id": "69GLhgJm1f6I"
   },
   "source": [
    "Q29. Affichez le nom et nombre du TOP 5 des organismes possédant le plus de projets."
   ]
  },
  {
   "cell_type": "code",
   "execution_count": null,
   "metadata": {
    "id": "sno2DqXD1mOU"
   },
   "outputs": [],
   "source": [
    "#Votre code ici"
   ]
  },
  {
   "cell_type": "markdown",
   "metadata": {
    "id": "cuver9rX1ofM"
   },
   "source": [
    "Q30. Expliquez rapidement pourquoi ces organismes sont les plus étudiés."
   ]
  },
  {
   "cell_type": "markdown",
   "metadata": {
    "id": "MZsDnE2j10cO"
   },
   "source": [
    "```markdown\n",
    "Votre réponse ici\n",
    "```"
   ]
  },
  {
   "cell_type": "markdown",
   "metadata": {
    "id": "lDmIuWXz18-J"
   },
   "source": [
    "# Exercice 3 : Gènes"
   ]
  },
  {
   "cell_type": "markdown",
   "metadata": {
    "id": "QCcmFeGf2BTn"
   },
   "source": [
    "Pour obtenir des informations plus précises sur les gènes contenus dans les différents organismes de genbank, nous allons travailler avec le fichier de résumé d'assemblage."
   ]
  },
  {
   "cell_type": "markdown",
   "metadata": {
    "id": "yVbG_vNb2OiI"
   },
   "source": [
    "Q1. Récupérez le fichier \"assembly_summary_genbank_historical.txt\" situé ici:\n",
    "https://ftp.ncbi.nlm.nih.gov/genomes/ASSEMBLY_REPORTS/\n",
    "\n",
    "(On utilise le fichier historique car il est plus petit, l’autre fichier fait >1GB)"
   ]
  },
  {
   "cell_type": "markdown",
   "metadata": {
    "id": "5DN-FBzu55j2"
   },
   "source": [
    "Q2. Qu'est-ce que le GC content ? Pourquoi est-il mesuré?"
   ]
  },
  {
   "cell_type": "markdown",
   "metadata": {
    "id": "1GdQhEom5-u7"
   },
   "source": [
    "```markdown\n",
    "Votre réponse ici\n",
    "```"
   ]
  },
  {
   "cell_type": "markdown",
   "metadata": {
    "id": "KsETs-jP2frR"
   },
   "source": [
    "Q3. Affichez la distribution du GC content dans tous les organismes de la liste, sous forme d'un violinplot."
   ]
  },
  {
   "cell_type": "code",
   "execution_count": null,
   "metadata": {
    "id": "etKTcPws3Qur"
   },
   "outputs": [],
   "source": [
    "#Votre code ici"
   ]
  },
  {
   "cell_type": "markdown",
   "metadata": {
    "id": "IBOOujQm3R1n"
   },
   "source": []
  },
  {
   "cell_type": "markdown",
   "metadata": {
    "id": "S-4AN7J85XZX"
   },
   "source": [
    "Q4. Qu'observez-vous ?"
   ]
  },
  {
   "cell_type": "markdown",
   "metadata": {
    "id": "ExvmSOL55aaj"
   },
   "source": [
    "```markdown\n",
    "Votre réponse ici\n",
    "```"
   ]
  },
  {
   "cell_type": "markdown",
   "metadata": {
    "id": "IuVawXI55bk0"
   },
   "source": [
    "Q5. Affichez le GC content en fonction de la taille du génome, sous forme de scatter plot."
   ]
  },
  {
   "cell_type": "code",
   "execution_count": null,
   "metadata": {
    "id": "u-h08VNY5pl8"
   },
   "outputs": [],
   "source": [
    "#Votre code ici"
   ]
  },
  {
   "cell_type": "markdown",
   "metadata": {
    "id": "bWa-pqkY5qcr"
   },
   "source": [
    "Q6. Qu'observez-vous ?"
   ]
  },
  {
   "cell_type": "markdown",
   "metadata": {
    "id": "h8KyylBE5sfv"
   },
   "source": [
    "```markdown\n",
    "Votre réponse ici\n",
    "```"
   ]
  },
  {
   "cell_type": "markdown",
   "metadata": {
    "id": "97dUv1eb6G9b"
   },
   "source": [
    "Q7. Affichez la distribution du nombre de gènes, choisissez le plot."
   ]
  },
  {
   "cell_type": "code",
   "execution_count": null,
   "metadata": {
    "id": "hsuftnKk6UKt"
   },
   "outputs": [],
   "source": [
    "#Votre code ici"
   ]
  },
  {
   "cell_type": "markdown",
   "metadata": {
    "id": "a-45-z3x6XLw"
   },
   "source": [
    "Q8. Qu'observez-vous ?"
   ]
  },
  {
   "cell_type": "markdown",
   "metadata": {
    "id": "rBGfoSaM66Ta"
   },
   "source": [
    "```markdown\n",
    "Votre réponse ici\n",
    "```"
   ]
  },
  {
   "cell_type": "markdown",
   "metadata": {
    "id": "Aw3U7mwq67mn"
   },
   "source": [
    "Q9. Enlevez les données aberrantes (outliers)"
   ]
  },
  {
   "cell_type": "code",
   "execution_count": null,
   "metadata": {
    "id": "_uiR78347EuM"
   },
   "outputs": [],
   "source": [
    "#Votre code ici"
   ]
  },
  {
   "cell_type": "markdown",
   "metadata": {
    "id": "iKXSZuhV7H-q"
   },
   "source": [
    "Q10. Comment avez-vous fait ? Quel seuil avez-vous choisi ?"
   ]
  },
  {
   "cell_type": "markdown",
   "metadata": {
    "id": "7tDIjrVc7M92"
   },
   "source": [
    "```markdown\n",
    "Votre réponse ici\n",
    "```"
   ]
  },
  {
   "cell_type": "markdown",
   "metadata": {
    "id": "EmZ7Ws1x7OIe"
   },
   "source": [
    "Q11. Y-a-t-il une corrélation entre taille du génome et nombre de gènes ?"
   ]
  },
  {
   "cell_type": "code",
   "execution_count": null,
   "metadata": {
    "id": "jquRl-Pz7THy"
   },
   "outputs": [],
   "source": [
    "#Votre code ici"
   ]
  },
  {
   "cell_type": "markdown",
   "metadata": {
    "id": "1op22x767Y2F"
   },
   "source": [
    "# Exercice 4: GC-content"
   ]
  },
  {
   "cell_type": "markdown",
   "metadata": {
    "id": "usMP4N887cQQ"
   },
   "source": [
    "Pour une séquence $s$, le contenu en GC est défini par :\n",
    "\n",
    "$GC(s)=\\frac{\\#G(s) + \\#C(s)}{|s|}$,\n",
    "\n",
    "où $\\#N(s)$ est le nombre de nucléotides $N$ dans la séquence $s$ et $|s|$ est la taille de $s$."
   ]
  },
  {
   "cell_type": "markdown",
   "metadata": {
    "id": "ToE1SWAI75NJ"
   },
   "source": [
    "Q1. Récuperrez legénome de l’organisme *Acidianus ambivalens* à partir du FTP :\n",
    "\n",
    "https://ftp.ncbi.nlm.nih.gov/genomes/genbank/archaea/\n",
    "\n",
    "(dans latest_assembly_versions/GCA_009729015.1_ASM972901v1, le fichier avec l'extension \"fna.gz\")\n"
   ]
  },
  {
   "cell_type": "markdown",
   "metadata": {
    "id": "ucshnQUQ83cV"
   },
   "source": [
    "Q2. Affichez le GC content global."
   ]
  },
  {
   "cell_type": "code",
   "execution_count": null,
   "metadata": {
    "id": "-QZhVkdH88dj"
   },
   "outputs": [],
   "source": [
    "#Votre code ici"
   ]
  },
  {
   "cell_type": "markdown",
   "metadata": {
    "id": "h9guJlTj89z9"
   },
   "source": [
    "Q3. Pour détecter des variations locales de GC, on va utiliser une fenêtre glissante de taille N nucléotides (démarrer à la position N/2 et finir à |s| -N/2).\n",
    "\n",
    "Affichez le GC content le long du génome pour des fenêtres de tailles 50, 1000 ou 10000."
   ]
  },
  {
   "cell_type": "code",
   "execution_count": null,
   "metadata": {
    "id": "qFJb63wB9P5K"
   },
   "outputs": [],
   "source": [
    "#Votre code ici"
   ]
  },
  {
   "cell_type": "markdown",
   "metadata": {
    "id": "ClZ57OAi9Ran"
   },
   "source": [
    "Q4. Qu’observez-vous ?"
   ]
  },
  {
   "cell_type": "markdown",
   "metadata": {
    "id": "EJpHpyNk9S8D"
   },
   "source": [
    "```markdown\n",
    "Votre réponse ici\n",
    "```"
   ]
  },
  {
   "cell_type": "markdown",
   "metadata": {
    "id": "gL-egRkq9bgj"
   },
   "source": [
    "Q5. On va lisser le signal pour le rendre moins bruité en utilisant la fonction *savgol_filter* de *scipy.signal* avec les paramètres $51$ et $5$."
   ]
  },
  {
   "cell_type": "code",
   "execution_count": null,
   "metadata": {
    "id": "vYbO1W0a9-Hz"
   },
   "outputs": [],
   "source": [
    "#Votre code ici"
   ]
  },
  {
   "cell_type": "markdown",
   "metadata": {
    "id": "W-X6zUqA9_du"
   },
   "source": [
    "Q6. Finalement, on va rendre le code générique pour n'importe quel espèce. Modifier votre code pour qu'il prenne en entrée un nom de fichier de génome du ftp, et une taille de fenêtre, et affiche le GC content global et local."
   ]
  },
  {
   "cell_type": "code",
   "execution_count": null,
   "metadata": {
    "id": "QHjLwSJ2-TkO"
   },
   "outputs": [],
   "source": [
    "#Votre code ici"
   ]
  }
 ],
 "metadata": {
  "colab": {
   "provenance": []
  },
  "kernelspec": {
   "display_name": "Python 3 (ipykernel)",
   "language": "python",
   "name": "python3"
  },
  "language_info": {
   "codemirror_mode": {
    "name": "ipython",
    "version": 3
   },
   "file_extension": ".py",
   "mimetype": "text/x-python",
   "name": "python",
   "nbconvert_exporter": "python",
   "pygments_lexer": "ipython3",
   "version": "3.12.7"
  }
 },
 "nbformat": 4,
 "nbformat_minor": 4
}
